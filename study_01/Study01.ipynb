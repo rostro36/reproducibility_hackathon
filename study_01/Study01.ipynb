{
 "cells": [
  {
   "cell_type": "markdown",
   "id": "ff949bca",
   "metadata": {},
   "source": [
    "# Study 01 - Registered report: A coding-independent function of gene and pseudogene mRNAs regulates tumour biology\n",
    "## Protocol 4 to 6"
   ]
  },
  {
   "cell_type": "code",
   "execution_count": 115,
   "id": "04e58291-7b01-4049-9c89-842dcbb213b4",
   "metadata": {},
   "outputs": [],
   "source": [
    "import os\n",
    "import pandas as pd\n",
    "import scipy\n",
    "import statsmodels.api as sm\n",
    "from statsmodels.formula.api import ols\n",
    "from statsmodels.stats.anova import anova_lm\n",
    "from statsmodels.api import qqplot\n",
    "import statsmodels\n",
    "import numpy as np\n",
    "from patsy import dmatrices"
   ]
  },
  {
   "cell_type": "markdown",
   "id": "3d836364",
   "metadata": {},
   "source": [
    "### Protocol 4: Western blot of cells transfected with siRNA"
   ]
  },
  {
   "cell_type": "markdown",
   "id": "a763d841",
   "metadata": {},
   "source": [
    "Confirmatory analysis plan <br />\n",
    "This replication attempt will perform the following statistical analysis listed below.<br />\n",
    "■Statistical Analysis:<br />\n",
    "○Note: at the time of analysis, we will perform the Shapiro–Wilk test and generate a quantile–quantile plot to assess the normality of the data. We will also perform Levene’s test to assess homoscedasticity. If the data appear skewed we will perform the appropriate transformation inorder to proceed with the proposed statistical analysis. If this is not possible we will perform the equivalent non-parametric test.<br />\n"
   ]
  },
  {
   "cell_type": "code",
   "execution_count": 116,
   "id": "e737df93",
   "metadata": {},
   "outputs": [
    {
     "name": "stdout",
     "output_type": "stream",
     "text": [
      "       Unnamed: 0  Repeat 1  Repeat 2  Repeat 3  Repeat 4  Repeat 5  Average   \n",
      "0   Untransfected     1.190     1.092     0.636     1.105     1.434   1.0914  \\\n",
      "1          Si-LUC     1.000     1.000     1.000     1.000     1.000   1.0000   \n",
      "2         Si-Pten     0.810     0.278     0.298     0.250     0.000   0.3272   \n",
      "3       Si-Ptenp1     0.663     0.611     0.632     0.575     0.777   0.6516   \n",
      "4  Si-Pten/Ptenp1     0.169     0.217     0.126     0.256     0.031   0.1598   \n",
      "\n",
      "   St deviation  \n",
      "0      0.289254  \n",
      "1      0.000000  \n",
      "2      0.295546  \n",
      "3      0.077064  \n",
      "4      0.087096  \n"
     ]
    }
   ],
   "source": [
    "#read in data\n",
    "df4=pd.read_csv(\"./data/protocol4_dataextracted.csv\")\n",
    "print(df4)"
   ]
  },
  {
   "cell_type": "code",
   "execution_count": 117,
   "id": "df1ff537",
   "metadata": {},
   "outputs": [
    {
     "name": "stdout",
     "output_type": "stream",
     "text": [
      "df4_untrans \t    Repeat 1  Repeat 2  Repeat 3  Repeat 4  Repeat 5\n",
      "0      1.19     1.092     0.636     1.105     1.434\n",
      "df4_Si_LUC \t    Repeat 1  Repeat 2  Repeat 3  Repeat 4  Repeat 5\n",
      "1       1.0       1.0       1.0       1.0       1.0\n",
      "df4_Si_Pten \t    Repeat 1  Repeat 2  Repeat 3  Repeat 4  Repeat 5\n",
      "2      0.81     0.278     0.298      0.25       0.0\n",
      "df4_Si_Ptenp1 \t    Repeat 1  Repeat 2  Repeat 3  Repeat 4  Repeat 5\n",
      "3     0.663     0.611     0.632     0.575     0.777\n",
      "df4_Si_Pten_Ptenp1    Repeat 1  Repeat 2  Repeat 3  Repeat 4  Repeat 5\n",
      "4     0.169     0.217     0.126     0.256     0.031\n"
     ]
    }
   ],
   "source": [
    "df4_untrans = df4.loc[df4['Unnamed: 0'] == 'Untransfected']\n",
    "df4_untrans = df4_untrans.iloc[:,1:6]\n",
    "print(\"df4_untrans \\t\",df4_untrans)\n",
    "df4_Si_LUC = df4.loc[df4['Unnamed: 0'] == 'Si-LUC']\n",
    "df4_Si_LUC = df4_Si_LUC.iloc[:,1:6]\n",
    "print(\"df4_Si_LUC \\t\",df4_Si_LUC)\n",
    "df4_Si_Pten = df4.loc[df4['Unnamed: 0'] == 'Si-Pten']\n",
    "df4_Si_Pten = df4_Si_Pten.iloc[:,1:6]\n",
    "print(\"df4_Si_Pten \\t\",df4_Si_Pten)\n",
    "df4_Si_Ptenp1 = df4.loc[df4['Unnamed: 0'] == 'Si-Ptenp1']\n",
    "df4_Si_Ptenp1 = df4_Si_Ptenp1.iloc[:,1:6]\n",
    "print(\"df4_Si_Ptenp1 \\t\",df4_Si_Ptenp1)\n",
    "df4_Si_Pten_Ptenp1 = df4.loc[df4['Unnamed: 0'] == 'Si-Pten/Ptenp1']\n",
    "df4_Si_Pten_Ptenp1 = df4_Si_Pten_Ptenp1.iloc[:,1:6]\n",
    "print(\"df4_Si_Pten_Ptenp1\",df4_Si_Pten_Ptenp1)"
   ]
  },
  {
   "cell_type": "code",
   "execution_count": 118,
   "id": "5dc84fad",
   "metadata": {},
   "outputs": [
    {
     "name": "stdout",
     "output_type": "stream",
     "text": [
      "Shapiro untransfected:  ShapiroResult(statistic=0.9171846508979797, pvalue=0.5119431018829346)\n",
      "Shapiro Si_LUC:  ShapiroResult(statistic=1.0, pvalue=1.0)\n",
      "Shapiro Si_Pten:  ShapiroResult(statistic=0.8656184673309326, pvalue=0.24913133680820465)\n",
      "Shapiro Si_Ptenp1:  ShapiroResult(statistic=0.9072771072387695, pvalue=0.4514017403125763)\n",
      "Shapiro Si_Pten_Ptenp1:  ShapiroResult(statistic=0.9694178700447083, pvalue=0.8715044260025024)\n"
     ]
    },
    {
     "name": "stderr",
     "output_type": "stream",
     "text": [
      "/home/inken/anaconda3/envs/hackathon/lib/python3.9/site-packages/scipy/stats/_morestats.py:1813: UserWarning: Input data for shapiro has range zero. The results may not be accurate.\n",
      "  warnings.warn(\"Input data for shapiro has range zero. The results \"\n"
     ]
    }
   ],
   "source": [
    "#Shapiro-Wilk test for normality\n",
    "print(\"Shapiro untransfected: \",scipy.stats.shapiro(df4_untrans.iloc[0]))\n",
    "print(\"Shapiro Si_LUC: \",scipy.stats.shapiro(df4_Si_LUC.iloc[0]))\n",
    "print(\"Shapiro Si_Pten: \",scipy.stats.shapiro(df4_Si_Pten.iloc[0]))\n",
    "print(\"Shapiro Si_Ptenp1: \",scipy.stats.shapiro(df4_Si_Ptenp1.iloc[0]))\n",
    "print(\"Shapiro Si_Pten_Ptenp1: \",scipy.stats.shapiro(df4_Si_Pten_Ptenp1.iloc[0]))"
   ]
  },
  {
   "cell_type": "markdown",
   "id": "8d8c7944",
   "metadata": {},
   "source": [
    "p value greater than the chosen alpha level --> null hypothesis cannot be rejected"
   ]
  },
  {
   "cell_type": "code",
   "execution_count": 119,
   "id": "7d4529b6",
   "metadata": {},
   "outputs": [
    {
     "name": "stdout",
     "output_type": "stream",
     "text": [
      "Repeat 1     1.19\n",
      "Repeat 2    1.092\n",
      "Repeat 3    0.636\n",
      "Repeat 4    1.105\n",
      "Repeat 5    1.434\n",
      "Name: 0, dtype: object\n"
     ]
    }
   ],
   "source": [
    "print(df4.iloc[0,1:6])"
   ]
  },
  {
   "cell_type": "code",
   "execution_count": 122,
   "id": "b0410704",
   "metadata": {},
   "outputs": [
    {
     "ename": "KeyError",
     "evalue": "0",
     "output_type": "error",
     "traceback": [
      "\u001b[0;31m---------------------------------------------------------------------------\u001b[0m",
      "\u001b[0;31mKeyError\u001b[0m                                  Traceback (most recent call last)",
      "File \u001b[0;32m~/anaconda3/envs/hackathon/lib/python3.9/site-packages/pandas/core/indexes/base.py:3652\u001b[0m, in \u001b[0;36mIndex.get_loc\u001b[0;34m(self, key)\u001b[0m\n\u001b[1;32m   3651\u001b[0m \u001b[38;5;28;01mtry\u001b[39;00m:\n\u001b[0;32m-> 3652\u001b[0m     \u001b[38;5;28;01mreturn\u001b[39;00m \u001b[38;5;28;43mself\u001b[39;49m\u001b[38;5;241;43m.\u001b[39;49m\u001b[43m_engine\u001b[49m\u001b[38;5;241;43m.\u001b[39;49m\u001b[43mget_loc\u001b[49m\u001b[43m(\u001b[49m\u001b[43mcasted_key\u001b[49m\u001b[43m)\u001b[49m\n\u001b[1;32m   3653\u001b[0m \u001b[38;5;28;01mexcept\u001b[39;00m \u001b[38;5;167;01mKeyError\u001b[39;00m \u001b[38;5;28;01mas\u001b[39;00m err:\n",
      "File \u001b[0;32m~/anaconda3/envs/hackathon/lib/python3.9/site-packages/pandas/_libs/index.pyx:147\u001b[0m, in \u001b[0;36mpandas._libs.index.IndexEngine.get_loc\u001b[0;34m()\u001b[0m\n",
      "File \u001b[0;32m~/anaconda3/envs/hackathon/lib/python3.9/site-packages/pandas/_libs/index.pyx:176\u001b[0m, in \u001b[0;36mpandas._libs.index.IndexEngine.get_loc\u001b[0;34m()\u001b[0m\n",
      "File \u001b[0;32mpandas/_libs/hashtable_class_helper.pxi:7080\u001b[0m, in \u001b[0;36mpandas._libs.hashtable.PyObjectHashTable.get_item\u001b[0;34m()\u001b[0m\n",
      "File \u001b[0;32mpandas/_libs/hashtable_class_helper.pxi:7088\u001b[0m, in \u001b[0;36mpandas._libs.hashtable.PyObjectHashTable.get_item\u001b[0;34m()\u001b[0m\n",
      "\u001b[0;31mKeyError\u001b[0m: 0",
      "\nThe above exception was the direct cause of the following exception:\n",
      "\u001b[0;31mKeyError\u001b[0m                                  Traceback (most recent call last)",
      "Cell \u001b[0;32mIn[122], line 5\u001b[0m\n\u001b[1;32m      2\u001b[0m normalisers \u001b[38;5;241m=\u001b[39m {}\n\u001b[1;32m      3\u001b[0m \u001b[38;5;28;01mfor\u001b[39;00m row_name \u001b[38;5;129;01min\u001b[39;00m [\u001b[38;5;241m0\u001b[39m,\u001b[38;5;241m1\u001b[39m,\u001b[38;5;241m2\u001b[39m,\u001b[38;5;241m3\u001b[39m,\u001b[38;5;241m4\u001b[39m]:\n\u001b[1;32m      4\u001b[0m     \u001b[38;5;66;03m#print(f\"Shapiro-Wilk for {row_name}: {shapiro(df4[row_name,1:6])}\")\u001b[39;00m\n\u001b[0;32m----> 5\u001b[0m     qqplot(\u001b[43mdf4\u001b[49m\u001b[43m[\u001b[49m\u001b[43mrow_name\u001b[49m\u001b[43m]\u001b[49m)\n\u001b[1;32m      6\u001b[0m     levene_rows\u001b[38;5;241m.\u001b[39mappend(data[row_name])\n\u001b[1;32m      7\u001b[0m     normalisers[row_name] \u001b[38;5;241m=\u001b[39m StandardScaler()\u001b[38;5;241m.\u001b[39mfit([[datapoint] \u001b[38;5;28;01mfor\u001b[39;00m datapoint \u001b[38;5;129;01min\u001b[39;00m data[row_name]])\n",
      "File \u001b[0;32m~/anaconda3/envs/hackathon/lib/python3.9/site-packages/pandas/core/frame.py:3761\u001b[0m, in \u001b[0;36mDataFrame.__getitem__\u001b[0;34m(self, key)\u001b[0m\n\u001b[1;32m   3759\u001b[0m \u001b[38;5;28;01mif\u001b[39;00m \u001b[38;5;28mself\u001b[39m\u001b[38;5;241m.\u001b[39mcolumns\u001b[38;5;241m.\u001b[39mnlevels \u001b[38;5;241m>\u001b[39m \u001b[38;5;241m1\u001b[39m:\n\u001b[1;32m   3760\u001b[0m     \u001b[38;5;28;01mreturn\u001b[39;00m \u001b[38;5;28mself\u001b[39m\u001b[38;5;241m.\u001b[39m_getitem_multilevel(key)\n\u001b[0;32m-> 3761\u001b[0m indexer \u001b[38;5;241m=\u001b[39m \u001b[38;5;28;43mself\u001b[39;49m\u001b[38;5;241;43m.\u001b[39;49m\u001b[43mcolumns\u001b[49m\u001b[38;5;241;43m.\u001b[39;49m\u001b[43mget_loc\u001b[49m\u001b[43m(\u001b[49m\u001b[43mkey\u001b[49m\u001b[43m)\u001b[49m\n\u001b[1;32m   3762\u001b[0m \u001b[38;5;28;01mif\u001b[39;00m is_integer(indexer):\n\u001b[1;32m   3763\u001b[0m     indexer \u001b[38;5;241m=\u001b[39m [indexer]\n",
      "File \u001b[0;32m~/anaconda3/envs/hackathon/lib/python3.9/site-packages/pandas/core/indexes/base.py:3654\u001b[0m, in \u001b[0;36mIndex.get_loc\u001b[0;34m(self, key)\u001b[0m\n\u001b[1;32m   3652\u001b[0m     \u001b[38;5;28;01mreturn\u001b[39;00m \u001b[38;5;28mself\u001b[39m\u001b[38;5;241m.\u001b[39m_engine\u001b[38;5;241m.\u001b[39mget_loc(casted_key)\n\u001b[1;32m   3653\u001b[0m \u001b[38;5;28;01mexcept\u001b[39;00m \u001b[38;5;167;01mKeyError\u001b[39;00m \u001b[38;5;28;01mas\u001b[39;00m err:\n\u001b[0;32m-> 3654\u001b[0m     \u001b[38;5;28;01mraise\u001b[39;00m \u001b[38;5;167;01mKeyError\u001b[39;00m(key) \u001b[38;5;28;01mfrom\u001b[39;00m \u001b[38;5;21;01merr\u001b[39;00m\n\u001b[1;32m   3655\u001b[0m \u001b[38;5;28;01mexcept\u001b[39;00m \u001b[38;5;167;01mTypeError\u001b[39;00m:\n\u001b[1;32m   3656\u001b[0m     \u001b[38;5;66;03m# If we have a listlike key, _check_indexing_error will raise\u001b[39;00m\n\u001b[1;32m   3657\u001b[0m     \u001b[38;5;66;03m#  InvalidIndexError. Otherwise we fall through and re-raise\u001b[39;00m\n\u001b[1;32m   3658\u001b[0m     \u001b[38;5;66;03m#  the TypeError.\u001b[39;00m\n\u001b[1;32m   3659\u001b[0m     \u001b[38;5;28mself\u001b[39m\u001b[38;5;241m.\u001b[39m_check_indexing_error(key)\n",
      "\u001b[0;31mKeyError\u001b[0m: 0"
     ]
    }
   ],
   "source": [
    "levene_rows = []\n",
    "normalisers = {}\n",
    "for row_name in [0,1,2,3,4]:\n",
    "    qqplot(df4[row_name])\n",
    "    levene_rows.append(data[row_name])\n",
    "    normalisers[row_name] = StandardScaler().fit([[datapoint] for datapoint in data[row_name]])\n",
    "print(f\"Levene: {levene(*levene_rows[:-1])}\")"
   ]
  },
  {
   "cell_type": "markdown",
   "id": "70fc0d34",
   "metadata": {},
   "source": [
    "○Two-way ANOVA of normalized PTEN levels in siLuc, siPTEN, siPTENP1, or siPTEN/PTENP1 siRNA transfected cells with the following planned comparisons using the Bonferroni correction:<br />\n",
    "1. siLuc compared to siPTEN.<br />\n",
    "2. siLuc compared to siPTENP1.<br />\n",
    "3. siLuc compared to siPTEN/PTENP1.<br />\n",
    "4. siPTEN/PTENP1 compared to siPTEN.<br />\n",
    "5. siPTEN/PTENP1 compared to siPTENP1.<br />"
   ]
  },
  {
   "cell_type": "code",
   "execution_count": null,
   "id": "c2d02cc3",
   "metadata": {},
   "outputs": [],
   "source": []
  },
  {
   "cell_type": "markdown",
   "id": "24c83239",
   "metadata": {},
   "source": [
    "### Protocol 5: Quantitative PCR following PTEN 3′UTR transfection"
   ]
  },
  {
   "cell_type": "markdown",
   "id": "21a3280e",
   "metadata": {},
   "source": [
    "Confirmatory analysis plan<br />\n",
    "This replication attempt will perform the following statistical analysis listed below.<br />\n",
    "■Statistical Analysis:<br />\n",
    "○Note: at the time of analysis, we will perform the Shapiro–Wilk test and generate a quantile–quantileplot to assess the normality of the data. We will also perform Levene’s test to assess homoscedasticity.If the data appear skewed we will perform the appropriate transformation in order to proceed with theproposed statistical analysis. If this is not possible we will perform the equivalent non-parametric test. <br />"
   ]
  },
  {
   "cell_type": "markdown",
   "id": "257896b9",
   "metadata": {},
   "source": [
    "○Unpaired two-tailedt-test ofPTENP1mRNA levels of pCMV transfected cells compared topCMV/PTEN3′UTR transfected cells."
   ]
  },
  {
   "cell_type": "markdown",
   "id": "e783dfb4",
   "metadata": {},
   "source": [
    "### Protocol 6: Cell growth assay following PTEN 3′UTR transfection"
   ]
  },
  {
   "cell_type": "markdown",
   "id": "14a63171",
   "metadata": {},
   "source": [
    "Confirmatory analysis plan<br />\n",
    "This replication attempt will perform the following statistical analysis listed below.<br />\n",
    "■Statistical Analysis:<br />\n",
    "○Note: at the time of analysis, we will perform the Shapiro–Wilk test and generate a quantile–quantile plot to assess the normality of the data. We will also perform Levene’s test to assesshomoscedasticity. If the data appear skewed we will perform the appropriate transformation inorder to proceed with the proposed statistical analysis. If this is not possible we will perform theequivalent non-parametric test.<br />"
   ]
  },
  {
   "cell_type": "markdown",
   "id": "20297b5b",
   "metadata": {},
   "source": [
    "○Unpaired two-tailed t-test of Day 5 absorbance of pCMV transfected cells compared to pCMV/PTEN3′UTR transfected cells"
   ]
  },
  {
   "cell_type": "code",
   "execution_count": 62,
   "id": "2e380da0-1ead-4c9e-a3b8-150ebe8ef55e",
   "metadata": {},
   "outputs": [
    {
     "name": "stdout",
     "output_type": "stream",
     "text": [
      "                             Contents mouse_id  treatment strain  cohort   \n",
      "0                 Nras D12 Chrt1 M#57       57  G12V/D38A  BL6WT     1.0  \\\n",
      "1                 Nras D12 Chrt1 M#58       58  G12V/D38A  BL6WT     1.0   \n",
      "2                 Nras D12 Chrt1 M#60       60  G12V/D38A  BL6WT     1.0   \n",
      "3                 Nras D12 Chrt1 M#62        2       G12V  BL6WT     1.0   \n",
      "4                 Nras D12 Chrt1 M#63       63       G12V  BL6WT     1.0   \n",
      "5                 Nras D12 Chrt1 M#72       72  G12V/D38A    CD4     1.0   \n",
      "6                 Nras D12 Chrt1 M#73       73  G12V/D38A    CD4     1.0   \n",
      "7                 Nras D12 Chrt1 M#74       74       G12V    CD4     1.0   \n",
      "8                Nras D12 Chrt2 M#100      100       G12V    CD4     2.0   \n",
      "9                Nras D12 Chrt2 M#101      101       G12V    CD4     2.0   \n",
      "10               Nras D12 Chrt2 M#102      102  G12V/D38A    CD4     2.0   \n",
      "11               Nras D12 Chrt2 M#103      103  G12V/D38A    CD4     2.0   \n",
      "12  Nras D12 Chrt2 M#103 Isotype Ctrl     ctrl        NaN    NaN     NaN   \n",
      "13      Nras D12 Chrt2 M#103 Neg Ctrl     ctrl        NaN    NaN     NaN   \n",
      "14                Nras D12 Chrt2 M#65       65  G12V/D38A  BL6WT     2.0   \n",
      "15                Nras D12 Chrt2 M#66       66  G12V/D38A  BL6WT     2.0   \n",
      "16                Nras D12 Chrt2 M#67       67       G12V  BL6WT     2.0   \n",
      "17                Nras D12 Chrt2 M#68       68       G12V  BL6WT     2.0   \n",
      "18                Nras D12 Chrt2 M#70       70       G12V  BL6WT     2.0   \n",
      "19                Nras D12 Chrt2 M#79       79  G12V/D38A    CD4     2.0   \n",
      "20                Nras D12 Chrt2 M#97       97       G12V    CD4     2.0   \n",
      "21                Nras D12 Chrt2 M#98       98       G12V    CD4     2.0   \n",
      "\n",
      "    percent_positive  positive_count  negative_count      Area  \n",
      "0               0.01               1           10588  2.482741  \n",
      "1               0.44              57           12766  2.478151  \n",
      "2               0.01               1            9429  2.471604  \n",
      "3               0.09              11           12155  2.333911  \n",
      "4               0.08              10           12742  2.497275  \n",
      "5               0.19              17            8755  2.496068  \n",
      "6               0.19              23           12109  2.462630  \n",
      "7               0.48              43            8994  2.449402  \n",
      "8               0.01               1           12218  2.426555  \n",
      "9               0.05               5            9806  2.462839  \n",
      "10              0.01               1           17297  2.499185  \n",
      "11              0.15              16           10921  2.449860  \n",
      "12              0.01               1            9648  2.431414  \n",
      "13              0.01               1            9580  2.447572  \n",
      "14              0.53              53            9935  2.459274  \n",
      "15              0.12              15           12801  2.406333  \n",
      "16              0.20              20           10064  2.423465  \n",
      "17              0.01               1            7607  2.337331  \n",
      "18              0.01               1            9294  2.433537  \n",
      "19              0.03               3            8861  2.413138  \n",
      "20              0.00               0           10332  2.378261  \n",
      "21              0.01               1           12037  2.464747  \n",
      "                Contents mouse_id  treatment strain  cohort  percent_positive   \n",
      "0    Nras D12 Chrt1 M#57       57  G12V/D38A  BL6WT     1.0              0.01  \\\n",
      "1    Nras D12 Chrt1 M#58       58  G12V/D38A  BL6WT     1.0              0.44   \n",
      "2    Nras D12 Chrt1 M#60       60  G12V/D38A  BL6WT     1.0              0.01   \n",
      "3    Nras D12 Chrt1 M#62        2       G12V  BL6WT     1.0              0.09   \n",
      "4    Nras D12 Chrt1 M#63       63       G12V  BL6WT     1.0              0.08   \n",
      "5    Nras D12 Chrt1 M#72       72  G12V/D38A    CD4     1.0              0.19   \n",
      "6    Nras D12 Chrt1 M#73       73  G12V/D38A    CD4     1.0              0.19   \n",
      "7    Nras D12 Chrt1 M#74       74       G12V    CD4     1.0              0.48   \n",
      "8   Nras D12 Chrt2 M#100      100       G12V    CD4     2.0              0.01   \n",
      "9   Nras D12 Chrt2 M#101      101       G12V    CD4     2.0              0.05   \n",
      "10  Nras D12 Chrt2 M#102      102  G12V/D38A    CD4     2.0              0.01   \n",
      "11  Nras D12 Chrt2 M#103      103  G12V/D38A    CD4     2.0              0.15   \n",
      "14   Nras D12 Chrt2 M#65       65  G12V/D38A  BL6WT     2.0              0.53   \n",
      "15   Nras D12 Chrt2 M#66       66  G12V/D38A  BL6WT     2.0              0.12   \n",
      "16   Nras D12 Chrt2 M#67       67       G12V  BL6WT     2.0              0.20   \n",
      "17   Nras D12 Chrt2 M#68       68       G12V  BL6WT     2.0              0.01   \n",
      "18   Nras D12 Chrt2 M#70       70       G12V  BL6WT     2.0              0.01   \n",
      "19   Nras D12 Chrt2 M#79       79  G12V/D38A    CD4     2.0              0.03   \n",
      "20   Nras D12 Chrt2 M#97       97       G12V    CD4     2.0              0.00   \n",
      "21   Nras D12 Chrt2 M#98       98       G12V    CD4     2.0              0.01   \n",
      "\n",
      "    positive_count  negative_count      Area  \n",
      "0                1           10588  2.482741  \n",
      "1               57           12766  2.478151  \n",
      "2                1            9429  2.471604  \n",
      "3               11           12155  2.333911  \n",
      "4               10           12742  2.497275  \n",
      "5               17            8755  2.496068  \n",
      "6               23           12109  2.462630  \n",
      "7               43            8994  2.449402  \n",
      "8                1           12218  2.426555  \n",
      "9                5            9806  2.462839  \n",
      "10               1           17297  2.499185  \n",
      "11              16           10921  2.449860  \n",
      "14              53            9935  2.459274  \n",
      "15              15           12801  2.406333  \n",
      "16              20           10064  2.423465  \n",
      "17               1            7607  2.337331  \n",
      "18               1            9294  2.433537  \n",
      "19               3            8861  2.413138  \n",
      "20               0           10332  2.378261  \n",
      "21               1           12037  2.464747  \n"
     ]
    }
   ],
   "source": [
    "df=pd.read_csv(\"./study_34/data/Study_34_Protocol_2.csv\")\n",
    "print(df)\n",
    "df = df[df.mouse_id!='ctrl'] #exclude control\n",
    "print(df)"
   ]
  },
  {
   "cell_type": "code",
   "execution_count": null,
   "id": "43473afe",
   "metadata": {},
   "outputs": [],
   "source": []
  },
  {
   "cell_type": "code",
   "execution_count": 63,
   "id": "1b28caef-5261-42ff-be42-de5df6f3ae98",
   "metadata": {},
   "outputs": [],
   "source": [
    "y, X = dmatrices('percent_positive ~ strain + treatment', data=df, \n",
    "                 return_type='dataframe')"
   ]
  },
  {
   "cell_type": "code",
   "execution_count": 64,
   "id": "900c77af-929a-40d5-ad69-574cca089e0d",
   "metadata": {},
   "outputs": [
    {
     "name": "stdout",
     "output_type": "stream",
     "text": [
      "    percent_positive\n",
      "0               0.01\n",
      "1               0.44\n",
      "2               0.01\n",
      "3               0.09\n",
      "4               0.08\n",
      "5               0.19\n",
      "6               0.19\n",
      "7               0.48\n",
      "8               0.01\n",
      "9               0.05\n",
      "10              0.01\n",
      "11              0.15\n",
      "14              0.53\n",
      "15              0.12\n",
      "16              0.20\n",
      "17              0.01\n",
      "18              0.01\n",
      "19              0.03\n",
      "20              0.00\n",
      "21              0.01\n"
     ]
    }
   ],
   "source": [
    "print(y)"
   ]
  },
  {
   "cell_type": "code",
   "execution_count": 65,
   "id": "19e3a9fa-37a4-454e-bd65-0377e66ab554",
   "metadata": {},
   "outputs": [
    {
     "name": "stdout",
     "output_type": "stream",
     "text": [
      "    Intercept  strain[T.CD4]  treatment[T.G12V/D38A]\n",
      "0         1.0            0.0                     1.0\n",
      "1         1.0            0.0                     1.0\n",
      "2         1.0            0.0                     1.0\n",
      "3         1.0            0.0                     0.0\n",
      "4         1.0            0.0                     0.0\n",
      "5         1.0            1.0                     1.0\n",
      "6         1.0            1.0                     1.0\n",
      "7         1.0            1.0                     0.0\n",
      "8         1.0            1.0                     0.0\n",
      "9         1.0            1.0                     0.0\n",
      "10        1.0            1.0                     1.0\n",
      "11        1.0            1.0                     1.0\n",
      "14        1.0            0.0                     1.0\n",
      "15        1.0            0.0                     1.0\n",
      "16        1.0            0.0                     0.0\n",
      "17        1.0            0.0                     0.0\n",
      "18        1.0            0.0                     0.0\n",
      "19        1.0            1.0                     1.0\n",
      "20        1.0            1.0                     0.0\n",
      "21        1.0            1.0                     0.0\n"
     ]
    }
   ],
   "source": [
    "print(X)"
   ]
  },
  {
   "cell_type": "code",
   "execution_count": 66,
   "id": "051594c7-41ae-4c8b-ae8a-f6d950d35086",
   "metadata": {
    "scrolled": false,
    "tags": []
   },
   "outputs": [
    {
     "name": "stdout",
     "output_type": "stream",
     "text": [
      "                            OLS Regression Results                            \n",
      "==============================================================================\n",
      "Dep. Variable:       percent_positive   R-squared:                       0.065\n",
      "Model:                            OLS   Adj. R-squared:                 -0.045\n",
      "Method:                 Least Squares   F-statistic:                    0.5944\n",
      "Date:                Fri, 05 May 2023   Prob (F-statistic):              0.563\n",
      "Time:                        14:41:22   Log-Likelihood:                 8.6150\n",
      "No. Observations:                  20   AIC:                            -11.23\n",
      "Df Residuals:                      17   BIC:                            -8.243\n",
      "Df Model:                           2                                         \n",
      "Covariance Type:            nonrobust                                         \n",
      "=============================================================================================\n",
      "                                coef    std err          t      P>|t|      [0.025      0.975]\n",
      "---------------------------------------------------------------------------------------------\n",
      "Intercept                     0.1130      0.066      1.710      0.105      -0.026       0.252\n",
      "C(treatment)[T.G12V/D38A]     0.0740      0.076      0.970      0.346      -0.087       0.235\n",
      "C(strain)[T.CD4]             -0.0380      0.076     -0.498      0.625      -0.199       0.123\n",
      "==============================================================================\n",
      "Omnibus:                        9.155   Durbin-Watson:                   2.292\n",
      "Prob(Omnibus):                  0.010   Jarque-Bera (JB):                6.721\n",
      "Skew:                           1.347   Prob(JB):                       0.0347\n",
      "Kurtosis:                       3.902   Cond. No.                         3.19\n",
      "==============================================================================\n",
      "\n",
      "Notes:\n",
      "[1] Standard Errors assume that the covariance matrix of the errors is correctly specified.\n"
     ]
    }
   ],
   "source": [
    "# Performing two-way ANOVA\n",
    "model = ols(\n",
    "    'percent_positive ~ C(treatment) + C(strain)', data=df).fit()\n",
    "sm.stats.anova_lm(model, typ=2)\n",
    "print(model.summary())\n",
    "anova_table = sm.stats.anova_lm(model, typ=2)"
   ]
  },
  {
   "cell_type": "code",
   "execution_count": 67,
   "id": "0a5d1f69-40cb-4495-a8cd-db5e0a8c2a11",
   "metadata": {},
   "outputs": [
    {
     "data": {
      "text/html": [
       "<div>\n",
       "<style scoped>\n",
       "    .dataframe tbody tr th:only-of-type {\n",
       "        vertical-align: middle;\n",
       "    }\n",
       "\n",
       "    .dataframe tbody tr th {\n",
       "        vertical-align: top;\n",
       "    }\n",
       "\n",
       "    .dataframe thead th {\n",
       "        text-align: right;\n",
       "    }\n",
       "</style>\n",
       "<table border=\"1\" class=\"dataframe\">\n",
       "  <thead>\n",
       "    <tr style=\"text-align: right;\">\n",
       "      <th></th>\n",
       "      <th>sum_sq</th>\n",
       "      <th>df</th>\n",
       "      <th>F</th>\n",
       "      <th>PR(&gt;F)</th>\n",
       "    </tr>\n",
       "  </thead>\n",
       "  <tbody>\n",
       "    <tr>\n",
       "      <th>C(treatment)</th>\n",
       "      <td>0.02738</td>\n",
       "      <td>1.0</td>\n",
       "      <td>0.940741</td>\n",
       "      <td>0.345686</td>\n",
       "    </tr>\n",
       "    <tr>\n",
       "      <th>C(strain)</th>\n",
       "      <td>0.00722</td>\n",
       "      <td>1.0</td>\n",
       "      <td>0.248070</td>\n",
       "      <td>0.624819</td>\n",
       "    </tr>\n",
       "    <tr>\n",
       "      <th>Residual</th>\n",
       "      <td>0.49478</td>\n",
       "      <td>17.0</td>\n",
       "      <td>NaN</td>\n",
       "      <td>NaN</td>\n",
       "    </tr>\n",
       "  </tbody>\n",
       "</table>\n",
       "</div>"
      ],
      "text/plain": [
       "               sum_sq    df         F    PR(>F)\n",
       "C(treatment)  0.02738   1.0  0.940741  0.345686\n",
       "C(strain)     0.00722   1.0  0.248070  0.624819\n",
       "Residual      0.49478  17.0       NaN       NaN"
      ]
     },
     "execution_count": 67,
     "metadata": {},
     "output_type": "execute_result"
    }
   ],
   "source": [
    "sm.stats.anova_lm(model, typ=2)"
   ]
  },
  {
   "cell_type": "code",
   "execution_count": 68,
   "id": "2add15fa-69fe-4530-80f4-b2d742dd0d8e",
   "metadata": {},
   "outputs": [],
   "source": [
    "# Performing two-way ANOVA#\n",
    "#model = ols(\n",
    "#    'percent_positive ~ C(treatment) + C(strain) + C(treatment):C(strain)', data=data).fit()\n",
    "#sm.stats.anova_lm(model, typ=2)"
   ]
  },
  {
   "cell_type": "markdown",
   "id": "098563cd",
   "metadata": {},
   "source": [
    "Planned comparisons with the Bonferroni correction.\n",
    "a. The percent of Nras-positive cells in wild-type mice injected with NrasG12V compared to the\n",
    "percent of Nras-positive cells in wild-type mice injected with NrasG12V/D38A."
   ]
  },
  {
   "cell_type": "code",
   "execution_count": 69,
   "id": "c99027de",
   "metadata": {},
   "outputs": [
    {
     "name": "stdout",
     "output_type": "stream",
     "text": [
      "               Contents mouse_id  treatment strain  cohort  percent_positive   \n",
      "0   Nras D12 Chrt1 M#57       57  G12V/D38A  BL6WT     1.0              0.01  \\\n",
      "1   Nras D12 Chrt1 M#58       58  G12V/D38A  BL6WT     1.0              0.44   \n",
      "2   Nras D12 Chrt1 M#60       60  G12V/D38A  BL6WT     1.0              0.01   \n",
      "3   Nras D12 Chrt1 M#62        2       G12V  BL6WT     1.0              0.09   \n",
      "4   Nras D12 Chrt1 M#63       63       G12V  BL6WT     1.0              0.08   \n",
      "14  Nras D12 Chrt2 M#65       65  G12V/D38A  BL6WT     2.0              0.53   \n",
      "15  Nras D12 Chrt2 M#66       66  G12V/D38A  BL6WT     2.0              0.12   \n",
      "16  Nras D12 Chrt2 M#67       67       G12V  BL6WT     2.0              0.20   \n",
      "17  Nras D12 Chrt2 M#68       68       G12V  BL6WT     2.0              0.01   \n",
      "18  Nras D12 Chrt2 M#70       70       G12V  BL6WT     2.0              0.01   \n",
      "\n",
      "    positive_count  negative_count      Area  \n",
      "0                1           10588  2.482741  \n",
      "1               57           12766  2.478151  \n",
      "2                1            9429  2.471604  \n",
      "3               11           12155  2.333911  \n",
      "4               10           12742  2.497275  \n",
      "14              53            9935  2.459274  \n",
      "15              15           12801  2.406333  \n",
      "16              20           10064  2.423465  \n",
      "17               1            7607  2.337331  \n",
      "18               1            9294  2.433537  \n"
     ]
    }
   ],
   "source": [
    "#get df only WT\n",
    "df_wt = df[df.strain=='BL6WT'] #exclude control\n",
    "print(df_wt)"
   ]
  },
  {
   "cell_type": "code",
   "execution_count": 70,
   "id": "399ed36d",
   "metadata": {},
   "outputs": [
    {
     "name": "stdout",
     "output_type": "stream",
     "text": [
      "                            OLS Regression Results                            \n",
      "==============================================================================\n",
      "Dep. Variable:       percent_positive   R-squared:                       0.052\n",
      "Model:                            OLS   Adj. R-squared:                 -0.001\n",
      "Method:                 Least Squares   F-statistic:                    0.9818\n",
      "Date:                Fri, 05 May 2023   Prob (F-statistic):              0.335\n",
      "Time:                        14:41:23   Log-Likelihood:                 8.4701\n",
      "No. Observations:                  20   AIC:                            -12.94\n",
      "Df Residuals:                      18   BIC:                            -10.95\n",
      "Df Model:                           1                                         \n",
      "Covariance Type:            nonrobust                                         \n",
      "=============================================================================================\n",
      "                                coef    std err          t      P>|t|      [0.025      0.975]\n",
      "---------------------------------------------------------------------------------------------\n",
      "Intercept                     0.0940      0.053      1.780      0.092      -0.017       0.205\n",
      "C(treatment)[T.G12V/D38A]     0.0740      0.075      0.991      0.335      -0.083       0.231\n",
      "==============================================================================\n",
      "Omnibus:                        8.992   Durbin-Watson:                   2.310\n",
      "Prob(Omnibus):                  0.011   Jarque-Bera (JB):                6.688\n",
      "Skew:                           1.363   Prob(JB):                       0.0353\n",
      "Kurtosis:                       3.769   Cond. No.                         2.62\n",
      "==============================================================================\n",
      "\n",
      "Notes:\n",
      "[1] Standard Errors assume that the covariance matrix of the errors is correctly specified.\n"
     ]
    }
   ],
   "source": [
    "#Performing one-way ANOVA\n",
    "model_a = ols(\n",
    "    'percent_positive ~ C(treatment)', data=df).fit()\n",
    "sm.stats.anova_lm(model_a, typ=1)\n",
    "print(model_a.summary())\n",
    "anova_table_a = sm.stats.anova_lm(model_a, typ=1)"
   ]
  },
  {
   "cell_type": "code",
   "execution_count": 71,
   "id": "a10eb20e",
   "metadata": {},
   "outputs": [
    {
     "data": {
      "text/html": [
       "<div>\n",
       "<style scoped>\n",
       "    .dataframe tbody tr th:only-of-type {\n",
       "        vertical-align: middle;\n",
       "    }\n",
       "\n",
       "    .dataframe tbody tr th {\n",
       "        vertical-align: top;\n",
       "    }\n",
       "\n",
       "    .dataframe thead th {\n",
       "        text-align: right;\n",
       "    }\n",
       "</style>\n",
       "<table border=\"1\" class=\"dataframe\">\n",
       "  <thead>\n",
       "    <tr style=\"text-align: right;\">\n",
       "      <th></th>\n",
       "      <th>sum_sq</th>\n",
       "      <th>df</th>\n",
       "      <th>F</th>\n",
       "      <th>PR(&gt;F)</th>\n",
       "    </tr>\n",
       "  </thead>\n",
       "  <tbody>\n",
       "    <tr>\n",
       "      <th>C(treatment)</th>\n",
       "      <td>0.02738</td>\n",
       "      <td>1.0</td>\n",
       "      <td>0.981753</td>\n",
       "      <td>0.3349</td>\n",
       "    </tr>\n",
       "    <tr>\n",
       "      <th>Residual</th>\n",
       "      <td>0.50200</td>\n",
       "      <td>18.0</td>\n",
       "      <td>NaN</td>\n",
       "      <td>NaN</td>\n",
       "    </tr>\n",
       "  </tbody>\n",
       "</table>\n",
       "</div>"
      ],
      "text/plain": [
       "               sum_sq    df         F  PR(>F)\n",
       "C(treatment)  0.02738   1.0  0.981753  0.3349\n",
       "Residual      0.50200  18.0       NaN     NaN"
      ]
     },
     "execution_count": 71,
     "metadata": {},
     "output_type": "execute_result"
    }
   ],
   "source": [
    "sm.stats.anova_lm(model_a, typ=2)"
   ]
  },
  {
   "cell_type": "code",
   "execution_count": 72,
   "id": "d51e1d32-24b7-48cf-94c2-398218bb822e",
   "metadata": {},
   "outputs": [
    {
     "data": {
      "text/plain": [
       "(array([False]), array([0.3349]), 0.050000000000000044, 0.05)"
      ]
     },
     "execution_count": 72,
     "metadata": {},
     "output_type": "execute_result"
    }
   ],
   "source": [
    "#With Bonferroni correction with standard alpha from statsmodels\n",
    "statsmodels.stats.multitest.multipletests([0.3349], alpha=0.05, method='bonferroni', is_sorted=False, returnsorted=False)"
   ]
  },
  {
   "cell_type": "markdown",
   "id": "a58e03a7",
   "metadata": {},
   "source": [
    "b. The percent of Nras-positive cells in wild-type mice injected with NrasG12V compared to the\n",
    "percent of Nras-positive cells in CD4−/− mice injected with NrasG12V."
   ]
  },
  {
   "cell_type": "code",
   "execution_count": 73,
   "id": "719cf4e3",
   "metadata": {},
   "outputs": [
    {
     "name": "stdout",
     "output_type": "stream",
     "text": [
      "                Contents mouse_id treatment strain  cohort  percent_positive   \n",
      "3    Nras D12 Chrt1 M#62        2      G12V  BL6WT     1.0              0.09  \\\n",
      "4    Nras D12 Chrt1 M#63       63      G12V  BL6WT     1.0              0.08   \n",
      "7    Nras D12 Chrt1 M#74       74      G12V    CD4     1.0              0.48   \n",
      "8   Nras D12 Chrt2 M#100      100      G12V    CD4     2.0              0.01   \n",
      "9   Nras D12 Chrt2 M#101      101      G12V    CD4     2.0              0.05   \n",
      "16   Nras D12 Chrt2 M#67       67      G12V  BL6WT     2.0              0.20   \n",
      "17   Nras D12 Chrt2 M#68       68      G12V  BL6WT     2.0              0.01   \n",
      "18   Nras D12 Chrt2 M#70       70      G12V  BL6WT     2.0              0.01   \n",
      "20   Nras D12 Chrt2 M#97       97      G12V    CD4     2.0              0.00   \n",
      "21   Nras D12 Chrt2 M#98       98      G12V    CD4     2.0              0.01   \n",
      "\n",
      "    positive_count  negative_count      Area  \n",
      "3               11           12155  2.333911  \n",
      "4               10           12742  2.497275  \n",
      "7               43            8994  2.449402  \n",
      "8                1           12218  2.426555  \n",
      "9                5            9806  2.462839  \n",
      "16              20           10064  2.423465  \n",
      "17               1            7607  2.337331  \n",
      "18               1            9294  2.433537  \n",
      "20               0           10332  2.378261  \n",
      "21               1           12037  2.464747  \n"
     ]
    }
   ],
   "source": [
    "#get df treatment NrasG12V\n",
    "df_g12v = df[df.treatment=='G12V'] #exclude control\n",
    "print(df_g12v)"
   ]
  },
  {
   "cell_type": "code",
   "execution_count": 74,
   "id": "988d474a",
   "metadata": {},
   "outputs": [
    {
     "name": "stdout",
     "output_type": "stream",
     "text": [
      "                            OLS Regression Results                            \n",
      "==============================================================================\n",
      "Dep. Variable:       percent_positive   R-squared:                       0.014\n",
      "Model:                            OLS   Adj. R-squared:                 -0.041\n",
      "Method:                 Least Squares   F-statistic:                    0.2489\n",
      "Date:                Fri, 05 May 2023   Prob (F-statistic):              0.624\n",
      "Time:                        14:41:26   Log-Likelihood:                 8.0764\n",
      "No. Observations:                  20   AIC:                            -12.15\n",
      "Df Residuals:                      18   BIC:                            -10.16\n",
      "Df Model:                           1                                         \n",
      "Covariance Type:            nonrobust                                         \n",
      "====================================================================================\n",
      "                       coef    std err          t      P>|t|      [0.025      0.975]\n",
      "------------------------------------------------------------------------------------\n",
      "Intercept            0.1500      0.054      2.785      0.012       0.037       0.263\n",
      "C(strain)[T.CD4]    -0.0380      0.076     -0.499      0.624      -0.198       0.122\n",
      "==============================================================================\n",
      "Omnibus:                        8.354   Durbin-Watson:                   2.026\n",
      "Prob(Omnibus):                  0.015   Jarque-Bera (JB):                6.266\n",
      "Skew:                           1.343   Prob(JB):                       0.0436\n",
      "Kurtosis:                       3.555   Cond. No.                         2.62\n",
      "==============================================================================\n",
      "\n",
      "Notes:\n",
      "[1] Standard Errors assume that the covariance matrix of the errors is correctly specified.\n"
     ]
    }
   ],
   "source": [
    "#Performing one-way ANOVA\n",
    "model_b = ols(\n",
    "    'percent_positive ~ C(strain)', data=df).fit()\n",
    "sm.stats.anova_lm(model_b, typ=1)\n",
    "print(model_b.summary())\n",
    "anova_table_b = sm.stats.anova_lm(model_b, typ=1)"
   ]
  },
  {
   "cell_type": "code",
   "execution_count": 75,
   "id": "a5c79f2f",
   "metadata": {},
   "outputs": [
    {
     "data": {
      "text/html": [
       "<div>\n",
       "<style scoped>\n",
       "    .dataframe tbody tr th:only-of-type {\n",
       "        vertical-align: middle;\n",
       "    }\n",
       "\n",
       "    .dataframe tbody tr th {\n",
       "        vertical-align: top;\n",
       "    }\n",
       "\n",
       "    .dataframe thead th {\n",
       "        text-align: right;\n",
       "    }\n",
       "</style>\n",
       "<table border=\"1\" class=\"dataframe\">\n",
       "  <thead>\n",
       "    <tr style=\"text-align: right;\">\n",
       "      <th></th>\n",
       "      <th>sum_sq</th>\n",
       "      <th>df</th>\n",
       "      <th>F</th>\n",
       "      <th>PR(&gt;F)</th>\n",
       "    </tr>\n",
       "  </thead>\n",
       "  <tbody>\n",
       "    <tr>\n",
       "      <th>C(strain)</th>\n",
       "      <td>0.00722</td>\n",
       "      <td>1.0</td>\n",
       "      <td>0.248889</td>\n",
       "      <td>0.6239</td>\n",
       "    </tr>\n",
       "    <tr>\n",
       "      <th>Residual</th>\n",
       "      <td>0.52216</td>\n",
       "      <td>18.0</td>\n",
       "      <td>NaN</td>\n",
       "      <td>NaN</td>\n",
       "    </tr>\n",
       "  </tbody>\n",
       "</table>\n",
       "</div>"
      ],
      "text/plain": [
       "            sum_sq    df         F  PR(>F)\n",
       "C(strain)  0.00722   1.0  0.248889  0.6239\n",
       "Residual   0.52216  18.0       NaN     NaN"
      ]
     },
     "execution_count": 75,
     "metadata": {},
     "output_type": "execute_result"
    }
   ],
   "source": [
    "sm.stats.anova_lm(model_b, typ=2)"
   ]
  },
  {
   "cell_type": "code",
   "execution_count": 76,
   "id": "a6d270d7",
   "metadata": {},
   "outputs": [
    {
     "data": {
      "text/plain": [
       "(array([False]), array([0.6239]), 0.050000000000000044, 0.05)"
      ]
     },
     "execution_count": 76,
     "metadata": {},
     "output_type": "execute_result"
    }
   ],
   "source": [
    "#With Bonferroni correction with standard alpha from statsmodels\n",
    "statsmodels.stats.multitest.multipletests([0.6239], alpha=0.05, method='bonferroni', is_sorted=False, returnsorted=False)"
   ]
  },
  {
   "cell_type": "code",
   "execution_count": 77,
   "id": "10f836d7",
   "metadata": {},
   "outputs": [
    {
     "name": "stdout",
     "output_type": "stream",
     "text": [
      "name: reproducibility_hackathon\n",
      "channels:\n",
      "  - conda-forge\n",
      "  - defaults\n",
      "dependencies:\n",
      "  - _libgcc_mutex=0.1=conda_forge\n",
      "  - _openmp_mutex=4.5=2_gnu\n",
      "  - bzip2=1.0.8=h7f98852_4\n",
      "  - ca-certificates=2022.12.7=ha878542_0\n",
      "  - ld_impl_linux-64=2.40=h41732ed_0\n",
      "  - libexpat=2.5.0=hcb278e6_1\n",
      "  - libffi=3.4.2=h7f98852_5\n",
      "  - libgcc-ng=12.2.0=h65d4601_19\n",
      "  - libgomp=12.2.0=h65d4601_19\n",
      "  - libnsl=2.0.0=h7f98852_0\n",
      "  - libsqlite=3.40.0=h753d276_1\n",
      "  - libuuid=2.38.1=h0b41bf4_0\n",
      "  - libzlib=1.2.13=h166bdaf_4\n",
      "  - ncurses=6.3=h27087fc_1\n",
      "  - openssl=3.1.0=hd590300_3\n",
      "  - pip=23.1.2=pyhd8ed1ab_0\n",
      "  - python=3.11.3=h2755cc3_0_cpython\n",
      "  - readline=8.2=h8228510_1\n",
      "  - setuptools=67.7.2=pyhd8ed1ab_0\n",
      "  - tk=8.6.12=h27826a3_0\n",
      "  - wheel=0.40.0=pyhd8ed1ab_0\n",
      "  - xz=5.2.6=h166bdaf_0\n",
      "  - pip:\n",
      "      - anyio==3.6.2\n",
      "      - argon2-cffi==21.3.0\n",
      "      - argon2-cffi-bindings==21.2.0\n",
      "      - arrow==1.2.3\n",
      "      - asttokens==2.2.1\n",
      "      - attrs==23.1.0\n",
      "      - backcall==0.2.0\n",
      "      - beautifulsoup4==4.12.2\n",
      "      - bleach==6.0.0\n",
      "      - cffi==1.15.1\n",
      "      - comm==0.1.3\n",
      "      - contourpy==1.0.7\n",
      "      - cycler==0.11.0\n",
      "      - debugpy==1.6.7\n",
      "      - decorator==5.1.1\n",
      "      - defusedxml==0.7.1\n",
      "      - executing==1.2.0\n",
      "      - fastjsonschema==2.16.3\n",
      "      - fonttools==4.39.3\n",
      "      - fqdn==1.5.1\n",
      "      - idna==3.4\n",
      "      - ipykernel==6.22.0\n",
      "      - ipython==8.13.2\n",
      "      - ipython-genutils==0.2.0\n",
      "      - ipywidgets==8.0.6\n",
      "      - isoduration==20.11.0\n",
      "      - jedi==0.18.2\n",
      "      - jinja2==3.1.2\n",
      "      - jsonpointer==2.3\n",
      "      - jsonschema==4.17.3\n",
      "      - jupyter==1.0.0\n",
      "      - jupyter-client==8.2.0\n",
      "      - jupyter-console==6.6.3\n",
      "      - jupyter-core==5.3.0\n",
      "      - jupyter-events==0.6.3\n",
      "      - jupyter-server==2.5.0\n",
      "      - jupyter-server-terminals==0.4.4\n",
      "      - jupyterlab-pygments==0.2.2\n",
      "      - jupyterlab-widgets==3.0.7\n",
      "      - kiwisolver==1.4.4\n",
      "      - markupsafe==2.1.2\n",
      "      - matplotlib==3.7.1\n",
      "      - matplotlib-inline==0.1.6\n",
      "      - mistune==2.0.5\n",
      "      - nbclassic==1.0.0\n",
      "      - nbclient==0.7.4\n",
      "      - nbconvert==7.3.1\n",
      "      - nbformat==5.8.0\n",
      "      - nest-asyncio==1.5.6\n",
      "      - notebook==6.5.4\n",
      "      - notebook-shim==0.2.3\n",
      "      - numpy==1.24.3\n",
      "      - packaging==23.1\n",
      "      - pandas==2.0.1\n",
      "      - pandocfilters==1.5.0\n",
      "      - parso==0.8.3\n",
      "      - patsy==0.5.3\n",
      "      - pexpect==4.8.0\n",
      "      - pickleshare==0.7.5\n",
      "      - pillow==9.5.0\n",
      "      - platformdirs==3.5.0\n",
      "      - prometheus-client==0.16.0\n",
      "      - prompt-toolkit==3.0.38\n",
      "      - psutil==5.9.5\n",
      "      - ptyprocess==0.7.0\n",
      "      - pure-eval==0.2.2\n",
      "      - pycparser==2.21\n",
      "      - pygments==2.15.1\n",
      "      - pyparsing==3.0.9\n",
      "      - pyrsistent==0.19.3\n",
      "      - python-dateutil==2.8.2\n",
      "      - python-json-logger==2.0.7\n",
      "      - pytz==2023.3\n",
      "      - pyyaml==6.0\n",
      "      - pyzmq==25.0.2\n",
      "      - qtconsole==5.4.2\n",
      "      - qtpy==2.3.1\n",
      "      - rfc3339-validator==0.1.4\n",
      "      - rfc3986-validator==0.1.1\n",
      "      - scipy==1.10.1\n",
      "      - send2trash==1.8.2\n",
      "      - six==1.16.0\n",
      "      - sniffio==1.3.0\n",
      "      - soupsieve==2.4.1\n",
      "      - stack-data==0.6.2\n",
      "      - statsmodels==0.13.5\n",
      "      - terminado==0.17.1\n",
      "      - tinycss2==1.2.1\n",
      "      - tornado==6.3.1\n",
      "      - traitlets==5.9.0\n",
      "      - tzdata==2023.3\n",
      "      - uri-template==1.2.0\n",
      "      - wcwidth==0.2.6\n",
      "      - webcolors==1.13\n",
      "      - webencodings==0.5.1\n",
      "      - websocket-client==1.5.1\n",
      "      - widgetsnbextension==4.0.7\n",
      "prefix: /home/jannik-gut/miniconda3/envs/reproducibility_hackathon\n",
      "\n"
     ]
    }
   ],
   "source": [
    "f = open('./environment.yml', 'r')\n",
    "content = f.read()\n",
    "print(content)"
   ]
  },
  {
   "cell_type": "code",
   "execution_count": null,
   "id": "0aa02d18",
   "metadata": {},
   "outputs": [],
   "source": []
  },
  {
   "cell_type": "code",
   "execution_count": null,
   "id": "f35c628d",
   "metadata": {},
   "outputs": [],
   "source": []
  }
 ],
 "metadata": {
  "kernelspec": {
   "display_name": "Python 3 (ipykernel)",
   "language": "python",
   "name": "python3"
  },
  "language_info": {
   "codemirror_mode": {
    "name": "ipython",
    "version": 3
   },
   "file_extension": ".py",
   "mimetype": "text/x-python",
   "name": "python",
   "nbconvert_exporter": "python",
   "pygments_lexer": "ipython3",
   "version": "3.9.12"
  }
 },
 "nbformat": 4,
 "nbformat_minor": 5
}
